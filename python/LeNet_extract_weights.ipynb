{
 "cells": [
  {
   "cell_type": "code",
   "execution_count": 3,
   "metadata": {},
   "outputs": [],
   "source": [
    "import keras\n",
    "from matplotlib import pyplot as plt\n",
    "import numpy as np\n",
    "import h5py\n",
    "import tensorflow as tf"
   ]
  },
  {
   "cell_type": "code",
   "execution_count": 4,
   "metadata": {},
   "outputs": [],
   "source": [
    "from keras.datasets import mnist\n",
    "(x_train, y_train), (x_test, y_test) = mnist.load_data()"
   ]
  },
  {
   "cell_type": "code",
   "execution_count": 5,
   "metadata": {},
   "outputs": [
    {
     "data": {
      "text/plain": [
       "'channels_first'"
      ]
     },
     "execution_count": 5,
     "metadata": {},
     "output_type": "execute_result"
    }
   ],
   "source": [
    "keras.backend.image_data_format()"
   ]
  },
  {
   "cell_type": "code",
   "execution_count": 6,
   "metadata": {},
   "outputs": [],
   "source": [
    "y_train = keras.utils.to_categorical(y_train, 10)\n",
    "y_test = keras.utils.to_categorical(y_test, 10)"
   ]
  },
  {
   "cell_type": "code",
   "execution_count": 7,
   "metadata": {},
   "outputs": [],
   "source": [
    "x_train = x_train / 255.\n",
    "x_test = x_test / 255."
   ]
  },
  {
   "cell_type": "code",
   "execution_count": 8,
   "metadata": {},
   "outputs": [
    {
     "data": {
      "text/plain": [
       "(60000, 28, 28)"
      ]
     },
     "execution_count": 8,
     "metadata": {},
     "output_type": "execute_result"
    }
   ],
   "source": [
    "x_train.shape"
   ]
  },
  {
   "cell_type": "code",
   "execution_count": 9,
   "metadata": {},
   "outputs": [],
   "source": [
    "x_train = x_train.reshape(-1, 1, 28, 28)\n",
    "x_test = x_test.reshape(-1, 1, 28, 28)"
   ]
  },
  {
   "cell_type": "code",
   "execution_count": 10,
   "metadata": {},
   "outputs": [],
   "source": [
    "from keras.layers import Conv2D, MaxPool2D, Dense, Flatten\n",
    "from keras.models import Sequential"
   ]
  },
  {
   "cell_type": "code",
   "execution_count": 11,
   "metadata": {},
   "outputs": [],
   "source": [
    "import keras.backend.tensorflow_backend as tfback"
   ]
  },
  {
   "cell_type": "code",
   "execution_count": 12,
   "metadata": {},
   "outputs": [],
   "source": [
    "def _get_available_gpus():  \n",
    "\n",
    "    if tfback._LOCAL_DEVICES is None:  \n",
    "        devices = tf.config.list_logical_devices()  \n",
    "        tfback._LOCAL_DEVICES = [x.name for x in devices]  \n",
    "    return [x for x in tfback._LOCAL_DEVICES if 'device:gpu' in x.lower()]\n",
    "\n",
    "\n",
    "tfback._get_available_gpus = _get_available_gpus"
   ]
  },
  {
   "cell_type": "code",
   "execution_count": 13,
   "metadata": {},
   "outputs": [],
   "source": [
    "lenet = Sequential()\n",
    "lenet.add(Conv2D(6, kernel_size=3, strides=1, padding='same', input_shape=(1, 28, 28), activation=\"relu\", \\\n",
    "                name='conv1', data_format=\"channels_first\"))\n",
    "\n",
    "lenet.add(MaxPool2D(pool_size=2, strides=2, name='pool1', data_format='channels_first'))\n",
    "\n",
    "lenet.add(Conv2D(16, kernel_size=5, strides=1, padding='valid', activation=\"relu\", \\\n",
    "                 name='conv2', data_format=\"channels_first\"))\n",
    "\n",
    "lenet.add(MaxPool2D(pool_size=2, strides=2, name='pool2', data_format=\"channels_first\"))\n",
    "lenet.add(Flatten(name='flatten', data_format=\"channels_last\"))\n",
    "lenet.add(Dense(120, activation=\"relu\", name='fc1'))\n",
    "lenet.add(Dense(84, activation=\"relu\", name='fc2'))\n",
    "lenet.add(Dense(10, activation='softmax', name='softmax'))"
   ]
  },
  {
   "cell_type": "code",
   "execution_count": 14,
   "metadata": {},
   "outputs": [
    {
     "name": "stdout",
     "output_type": "stream",
     "text": [
      "Model: \"sequential_1\"\n",
      "_________________________________________________________________\n",
      "Layer (type)                 Output Shape              Param #   \n",
      "=================================================================\n",
      "conv1 (Conv2D)               (None, 6, 28, 28)         60        \n",
      "_________________________________________________________________\n",
      "pool1 (MaxPooling2D)         (None, 6, 14, 14)         0         \n",
      "_________________________________________________________________\n",
      "conv2 (Conv2D)               (None, 16, 10, 10)        2416      \n",
      "_________________________________________________________________\n",
      "pool2 (MaxPooling2D)         (None, 16, 5, 5)          0         \n",
      "_________________________________________________________________\n",
      "flatten (Flatten)            (None, 400)               0         \n",
      "_________________________________________________________________\n",
      "fc1 (Dense)                  (None, 120)               48120     \n",
      "_________________________________________________________________\n",
      "fc2 (Dense)                  (None, 84)                10164     \n",
      "_________________________________________________________________\n",
      "softmax (Dense)              (None, 10)                850       \n",
      "=================================================================\n",
      "Total params: 61,610\n",
      "Trainable params: 61,610\n",
      "Non-trainable params: 0\n",
      "_________________________________________________________________\n"
     ]
    }
   ],
   "source": [
    "lenet.summary()"
   ]
  },
  {
   "cell_type": "code",
   "execution_count": 22,
   "metadata": {},
   "outputs": [],
   "source": [
    "lenet.compile('sgd', loss='categorical_crossentropy', metrics=['accuracy'])"
   ]
  },
  {
   "cell_type": "code",
   "execution_count": 16,
   "metadata": {},
   "outputs": [],
   "source": [
    "# lenet.fit(x_train, y_train, batch_size=64, epochs=50, validation_data=[x_test, y_test])"
   ]
  },
  {
   "cell_type": "code",
   "execution_count": 17,
   "metadata": {},
   "outputs": [],
   "source": [
    "# lenet.save('LeNet_NCHW.h5')"
   ]
  },
  {
   "cell_type": "code",
   "execution_count": 28,
   "metadata": {},
   "outputs": [],
   "source": [
    "lenet.load_weights(\"LeNet_NCHW2.h5\")"
   ]
  },
  {
   "cell_type": "code",
   "execution_count": 29,
   "metadata": {},
   "outputs": [],
   "source": [
    "image_7 = np.expand_dims(x_test[0], axis=0)\n",
    "predictions = lenet.predict(image_7)"
   ]
  },
  {
   "cell_type": "code",
   "execution_count": 30,
   "metadata": {},
   "outputs": [
    {
     "data": {
      "text/plain": [
       "array([[4.1750793e-13, 1.0217871e-07, 4.7025295e-09, 7.9027460e-09,\n",
       "        4.6409793e-11, 4.0204432e-14, 3.6066829e-20, 9.9999988e-01,\n",
       "        5.8345616e-12, 4.1460571e-10]], dtype=float32)"
      ]
     },
     "execution_count": 30,
     "metadata": {},
     "output_type": "execute_result"
    }
   ],
   "source": [
    "predictions"
   ]
  },
  {
   "cell_type": "code",
   "execution_count": 31,
   "metadata": {},
   "outputs": [
    {
     "name": "stdout",
     "output_type": "stream",
     "text": [
      "10000/10000 [==============================] - 1s 107us/step\n"
     ]
    },
    {
     "data": {
      "text/plain": [
       "[0.05243030259209918, 0.9857000112533569]"
      ]
     },
     "execution_count": 31,
     "metadata": {},
     "output_type": "execute_result"
    }
   ],
   "source": [
    "lenet.evaluate(x_test,y_test)"
   ]
  },
  {
   "cell_type": "code",
   "execution_count": 42,
   "metadata": {},
   "outputs": [],
   "source": [
    "from keras.models import Model"
   ]
  },
  {
   "cell_type": "code",
   "execution_count": 53,
   "metadata": {},
   "outputs": [],
   "source": [
    "#### CONV 1 #####"
   ]
  },
  {
   "cell_type": "code",
   "execution_count": 43,
   "metadata": {},
   "outputs": [
    {
     "data": {
      "text/plain": [
       "<KeysViewHDF5 ['conv1', 'conv2', 'fc1', 'fc2', 'flatten', 'pool1', 'pool2', 'softmax']>"
      ]
     },
     "execution_count": 43,
     "metadata": {},
     "output_type": "execute_result"
    }
   ],
   "source": [
    "f = h5py.File(\"LeNet_NCHW2.h5\",\"r\")\n",
    "f['model_weights'].keys()"
   ]
  },
  {
   "cell_type": "code",
   "execution_count": 44,
   "metadata": {},
   "outputs": [],
   "source": [
    "conv1_kernel=f['model_weights']['conv1']['conv1']['kernel:0'][:]"
   ]
  },
  {
   "cell_type": "code",
   "execution_count": 45,
   "metadata": {},
   "outputs": [
    {
     "data": {
      "text/plain": [
       "(3, 3, 1, 6)"
      ]
     },
     "execution_count": 45,
     "metadata": {},
     "output_type": "execute_result"
    }
   ],
   "source": [
    "conv1_kernel.shape"
   ]
  },
  {
   "cell_type": "code",
   "execution_count": 46,
   "metadata": {},
   "outputs": [
    {
     "data": {
      "text/plain": [
       "(6, 1, 3, 3)"
      ]
     },
     "execution_count": 46,
     "metadata": {},
     "output_type": "execute_result"
    }
   ],
   "source": [
    "conv1_kernel= np.moveaxis(conv1_kernel,-1,0)\n",
    "conv1_kernel= np.moveaxis(conv1_kernel,-1,1)\n",
    "conv1_kernel.shape"
   ]
  },
  {
   "cell_type": "code",
   "execution_count": 48,
   "metadata": {},
   "outputs": [],
   "source": [
    "ofilter=6\n",
    "ifilter=1\n",
    "ksize=3\n",
    "with open(\"C1_weights.h\",\"w\") as f:\n",
    "    ofm=0\n",
    "    for i in conv1_kernel:\n",
    "        ofm+=1\n",
    "        f.write(\"\\t{\\n\")\n",
    "        f.write(\"\\t\\t{\\n\")\n",
    "        kernelh=0\n",
    "        for j in i[0]:\n",
    "            kernelh+=1\n",
    "            f.write(\"\\t\\t\\t{\")\n",
    "            kernel=0\n",
    "            for k in j:\n",
    "                kernel+=1\n",
    "                f.write(str(k))\n",
    "                if(kernel!=ksize):\n",
    "                    f.write(\",\")\n",
    "            f.write(\"}\")\n",
    "            if(kernelh!=ksize):\n",
    "                f.write(\",\\n\")\n",
    "        f.write(\"\\n\\t\\t}\")\n",
    "        f.write(\"\\n\\t}\")\n",
    "        if(ofm!=ofilter):\n",
    "            f.write(\",\\n\")"
   ]
  },
  {
   "cell_type": "code",
   "execution_count": 49,
   "metadata": {},
   "outputs": [],
   "source": [
    "f = h5py.File(\"LeNet_NCHW2.h5\",\"r\")"
   ]
  },
  {
   "cell_type": "code",
   "execution_count": 50,
   "metadata": {},
   "outputs": [],
   "source": [
    "conv1_bias = f['model_weights']['conv1']['conv1']['bias:0'][:]"
   ]
  },
  {
   "cell_type": "code",
   "execution_count": 51,
   "metadata": {},
   "outputs": [
    {
     "data": {
      "text/plain": [
       "(6,)"
      ]
     },
     "execution_count": 51,
     "metadata": {},
     "output_type": "execute_result"
    }
   ],
   "source": [
    "conv1_bias.shape"
   ]
  },
  {
   "cell_type": "code",
   "execution_count": 52,
   "metadata": {},
   "outputs": [],
   "source": [
    "with open(\"C1_bias.h\",\"w\") as f:\n",
    "    b=0\n",
    "    f.write(\"\\t{\")\n",
    "    for i in conv1_bias:\n",
    "        b+=1\n",
    "        f.write(str(i))\n",
    "        if(b!=6):\n",
    "            f.write(\", \")\n",
    "    f.write(\"};\")"
   ]
  },
  {
   "cell_type": "code",
   "execution_count": 54,
   "metadata": {},
   "outputs": [],
   "source": [
    "#### CONV 2 #####"
   ]
  },
  {
   "cell_type": "code",
   "execution_count": 65,
   "metadata": {},
   "outputs": [
    {
     "name": "stdout",
     "output_type": "stream",
     "text": [
      "(16, 6, 5, 5)\n",
      "(16,)\n"
     ]
    }
   ],
   "source": [
    "f = h5py.File(\"LeNet_NCHW2.h5\",\"r\")\n",
    "conv2_kernel=f['model_weights']['conv2']['conv2']['kernel:0'][:]\n",
    "conv2_kernel= np.moveaxis(conv2_kernel,-1,0)\n",
    "conv2_kernel= np.moveaxis(conv2_kernel,-1,1)\n",
    "conv2_bias=f['model_weights']['conv2']['conv2']['bias:0'][:]\n",
    "print(conv2_kernel.shape)\n",
    "print(conv2_bias.shape)"
   ]
  },
  {
   "cell_type": "code",
   "execution_count": 72,
   "metadata": {},
   "outputs": [],
   "source": [
    "ofilter=16\n",
    "ifilter=6\n",
    "ksize=5\n",
    "with open(\"C2_weights.h\",\"w\") as f:\n",
    "    ofm=0\n",
    "    \n",
    "    for i in conv2_kernel:\n",
    "        ofm+=1\n",
    "        f.write(\"\\t{\\n\")\n",
    "        ifm=0\n",
    "        for l in i:\n",
    "            ifm+=1\n",
    "            f.write(\"\\t\\t{\\n\")\n",
    "            kernelh=0\n",
    "            for j in l:\n",
    "                kernelh+=1\n",
    "                f.write(\"\\t\\t\\t{\")\n",
    "                kernel=0\n",
    "                for k in j:\n",
    "                    kernel+=1\n",
    "                    f.write(str(k))\n",
    "                    if(kernel!=ksize):\n",
    "                        f.write(\",\")\n",
    "                f.write(\"}\")\n",
    "                if(kernelh!=ksize):\n",
    "                    f.write(\",\\n\")\n",
    "                    \n",
    "            f.write(\"\\n\\t\\t}\")\n",
    "            if(ifm!=ifilter):\n",
    "                f.write(\",\\n\")\n",
    "        f.write(\"\\n\\t}\")\n",
    "        if(ofm!=ofilter):\n",
    "            f.write(\",\\n\")"
   ]
  },
  {
   "cell_type": "code",
   "execution_count": 74,
   "metadata": {},
   "outputs": [],
   "source": [
    "with open(\"C2_bias.h\",\"w\") as f:\n",
    "    b=0\n",
    "    f.write(\"\\t{\")\n",
    "    for i in conv2_bias:\n",
    "        b+=1\n",
    "        f.write(str(i))\n",
    "        if(b!=16):\n",
    "            f.write(\", \")\n",
    "    f.write(\"};\")"
   ]
  },
  {
   "cell_type": "code",
   "execution_count": 78,
   "metadata": {},
   "outputs": [
    {
     "name": "stdout",
     "output_type": "stream",
     "text": [
      "(120, 400)\n",
      "(120,)\n"
     ]
    }
   ],
   "source": [
    "########   FC 1   ##########\n",
    "f = h5py.File(\"LeNet_NCHW2.h5\",\"r\")\n",
    "fc1_kernel=f['model_weights']['fc1']['fc1']['kernel:0'][:]\n",
    "fc1_kernel= np.moveaxis(fc1_kernel,-1,0)\n",
    "fc1_bias=f['model_weights']['fc1']['fc1']['bias:0'][:]\n",
    "print(fc1_kernel.shape)\n",
    "print(fc1_bias.shape)"
   ]
  },
  {
   "cell_type": "code",
   "execution_count": 85,
   "metadata": {},
   "outputs": [],
   "source": [
    "ofilter=120\n",
    "ifilter=400\n",
    "\n",
    "with open(\"FC1_weights.h\",\"w\") as f:\n",
    "    ofm=0\n",
    "    f.write(\"\\t{\\n\")\n",
    "    for i in fc1_kernel:\n",
    "        ofm+=1\n",
    "        ifm=0\n",
    "        f.write(\"\\t\\t{\")\n",
    "        for l in i:\n",
    "            ifm+=1\n",
    "            f.write(str(l))\n",
    "            if(ifm!=ifilter):\n",
    "                f.write(\",\")\n",
    "        f.write(\"}\")\n",
    "        if(ofm!=ofilter):\n",
    "            f.write(\",\\n\")\n",
    "    f.write(\"\\n\\t};\")"
   ]
  },
  {
   "cell_type": "code",
   "execution_count": 84,
   "metadata": {},
   "outputs": [],
   "source": [
    "ofilter=120\n",
    "with open(\"FC1_bias.h\",\"w\") as f:\n",
    "    b=0\n",
    "    f.write(\"\\t{\")\n",
    "    for i in fc1_bias:\n",
    "        b+=1\n",
    "        f.write(str(i))\n",
    "        if(b!=ofilter):\n",
    "            f.write(\", \")\n",
    "    f.write(\"};\")"
   ]
  },
  {
   "cell_type": "code",
   "execution_count": 86,
   "metadata": {},
   "outputs": [
    {
     "name": "stdout",
     "output_type": "stream",
     "text": [
      "(84, 120)\n",
      "(84,)\n"
     ]
    }
   ],
   "source": [
    "########   FC 2   ##########\n",
    "f = h5py.File(\"LeNet_NCHW2.h5\",\"r\")\n",
    "fc2_kernel=f['model_weights']['fc2']['fc2']['kernel:0'][:]\n",
    "fc2_kernel= np.moveaxis(fc2_kernel,-1,0)\n",
    "fc2_bias=f['model_weights']['fc2']['fc2']['bias:0'][:]\n",
    "print(fc2_kernel.shape)\n",
    "print(fc2_bias.shape)"
   ]
  },
  {
   "cell_type": "code",
   "execution_count": 89,
   "metadata": {},
   "outputs": [],
   "source": [
    "ofilter=84\n",
    "ifilter=120\n",
    "\n",
    "with open(\"FC2_weights.h\",\"w\") as f:\n",
    "    ofm=0\n",
    "    f.write(\"\\t{\\n\")\n",
    "    for i in fc2_kernel:\n",
    "        ofm+=1\n",
    "        ifm=0\n",
    "        f.write(\"\\t\\t{\")\n",
    "        for l in i:\n",
    "            ifm+=1\n",
    "            f.write(str(l))\n",
    "            if(ifm!=ifilter):\n",
    "                f.write(\",\")\n",
    "        f.write(\"}\")\n",
    "        if(ofm!=ofilter):\n",
    "            f.write(\",\\n\")\n",
    "    f.write(\"\\n\\t};\")"
   ]
  },
  {
   "cell_type": "code",
   "execution_count": 90,
   "metadata": {},
   "outputs": [],
   "source": [
    "ofilter=84\n",
    "with open(\"FC2_bias.h\",\"w\") as f:\n",
    "    b=0\n",
    "    f.write(\"\\t{\")\n",
    "    for i in fc2_bias:\n",
    "        b+=1\n",
    "        f.write(str(i))\n",
    "        if(b!=ofilter):\n",
    "            f.write(\", \")\n",
    "    f.write(\"};\")"
   ]
  },
  {
   "cell_type": "code",
   "execution_count": 91,
   "metadata": {},
   "outputs": [
    {
     "name": "stdout",
     "output_type": "stream",
     "text": [
      "(10, 84)\n",
      "(10,)\n"
     ]
    }
   ],
   "source": [
    "########   FC 3   ##########\n",
    "f = h5py.File(\"LeNet_NCHW2.h5\",\"r\")\n",
    "soft_kernel=f['model_weights']['softmax']['softmax']['kernel:0'][:]\n",
    "soft_kernel= np.moveaxis(soft_kernel,-1,0)\n",
    "soft_bias=f['model_weights']['softmax']['softmax']['bias:0'][:]\n",
    "print(soft_kernel.shape)\n",
    "print(soft_bias.shape)"
   ]
  },
  {
   "cell_type": "code",
   "execution_count": 92,
   "metadata": {},
   "outputs": [],
   "source": [
    "ofilter=10\n",
    "ifilter=84\n",
    "\n",
    "with open(\"FC3_weights.h\",\"w\") as f:\n",
    "    ofm=0\n",
    "    f.write(\"\\t{\\n\")\n",
    "    for i in soft_kernel:\n",
    "        ofm+=1\n",
    "        ifm=0\n",
    "        f.write(\"\\t\\t{\")\n",
    "        for l in i:\n",
    "            ifm+=1\n",
    "            f.write(str(l))\n",
    "            if(ifm!=ifilter):\n",
    "                f.write(\",\")\n",
    "        f.write(\"}\")\n",
    "        if(ofm!=ofilter):\n",
    "            f.write(\",\\n\")\n",
    "    f.write(\"\\n\\t};\")"
   ]
  },
  {
   "cell_type": "code",
   "execution_count": 93,
   "metadata": {},
   "outputs": [],
   "source": [
    "ofilter=10\n",
    "with open(\"FC3_bias.h\",\"w\") as f:\n",
    "    b=0\n",
    "    f.write(\"\\t{\")\n",
    "    for i in soft_bias:\n",
    "        b+=1\n",
    "        f.write(str(i))\n",
    "        if(b!=ofilter):\n",
    "            f.write(\", \")\n",
    "    f.write(\"};\")"
   ]
  },
  {
   "cell_type": "code",
   "execution_count": null,
   "metadata": {},
   "outputs": [],
   "source": []
  }
 ],
 "metadata": {
  "kernelspec": {
   "display_name": "Python 3",
   "language": "python",
   "name": "python3"
  },
  "language_info": {
   "codemirror_mode": {
    "name": "ipython",
    "version": 3
   },
   "file_extension": ".py",
   "mimetype": "text/x-python",
   "name": "python",
   "nbconvert_exporter": "python",
   "pygments_lexer": "ipython3",
   "version": "3.6.8"
  }
 },
 "nbformat": 4,
 "nbformat_minor": 2
}
