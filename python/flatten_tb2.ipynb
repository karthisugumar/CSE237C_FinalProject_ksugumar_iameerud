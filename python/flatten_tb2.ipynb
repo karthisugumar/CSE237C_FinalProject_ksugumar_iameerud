{
 "cells": [
  {
   "cell_type": "code",
   "execution_count": 1,
   "metadata": {},
   "outputs": [
    {
     "name": "stderr",
     "output_type": "stream",
     "text": [
      "Using TensorFlow backend.\n"
     ]
    }
   ],
   "source": [
    "import keras\n",
    "from matplotlib import pyplot as plt\n",
    "import numpy as np\n",
    "import h5py\n",
    "import tensorflow as tf"
   ]
  },
  {
   "cell_type": "code",
   "execution_count": 2,
   "metadata": {},
   "outputs": [],
   "source": [
    "from keras.datasets import mnist\n",
    "(x_train, y_train), (x_test, y_test) = mnist.load_data()"
   ]
  },
  {
   "cell_type": "code",
   "execution_count": 3,
   "metadata": {},
   "outputs": [
    {
     "data": {
      "text/plain": [
       "'channels_first'"
      ]
     },
     "execution_count": 3,
     "metadata": {},
     "output_type": "execute_result"
    }
   ],
   "source": [
    "keras.backend.image_data_format()"
   ]
  },
  {
   "cell_type": "code",
   "execution_count": 4,
   "metadata": {},
   "outputs": [],
   "source": [
    "y_train = keras.utils.to_categorical(y_train, 10)\n",
    "y_test = keras.utils.to_categorical(y_test, 10)"
   ]
  },
  {
   "cell_type": "code",
   "execution_count": 5,
   "metadata": {},
   "outputs": [],
   "source": [
    "x_train = x_train / 255.\n",
    "x_test = x_test / 255."
   ]
  },
  {
   "cell_type": "code",
   "execution_count": 6,
   "metadata": {},
   "outputs": [
    {
     "data": {
      "text/plain": [
       "(60000, 28, 28)"
      ]
     },
     "execution_count": 6,
     "metadata": {},
     "output_type": "execute_result"
    }
   ],
   "source": [
    "x_train.shape"
   ]
  },
  {
   "cell_type": "code",
   "execution_count": 7,
   "metadata": {},
   "outputs": [],
   "source": [
    "x_train = x_train.reshape(-1, 1, 28, 28)\n",
    "x_test = x_test.reshape(-1, 1, 28, 28)"
   ]
  },
  {
   "cell_type": "code",
   "execution_count": 8,
   "metadata": {},
   "outputs": [],
   "source": [
    "from keras.layers import Conv2D, MaxPool2D, Dense, Flatten\n",
    "from keras.models import Sequential"
   ]
  },
  {
   "cell_type": "code",
   "execution_count": 9,
   "metadata": {},
   "outputs": [],
   "source": [
    "import keras.backend.tensorflow_backend as tfback"
   ]
  },
  {
   "cell_type": "code",
   "execution_count": 10,
   "metadata": {},
   "outputs": [],
   "source": [
    "def _get_available_gpus():  \n",
    "\n",
    "    if tfback._LOCAL_DEVICES is None:  \n",
    "        devices = tf.config.list_logical_devices()  \n",
    "        tfback._LOCAL_DEVICES = [x.name for x in devices]  \n",
    "    return [x for x in tfback._LOCAL_DEVICES if 'device:gpu' in x.lower()]\n",
    "\n",
    "\n",
    "tfback._get_available_gpus = _get_available_gpus"
   ]
  },
  {
   "cell_type": "code",
   "execution_count": 60,
   "metadata": {},
   "outputs": [],
   "source": [
    "lenet = Sequential()\n",
    "lenet.add(Conv2D(6, kernel_size=3, strides=1, padding='same', input_shape=(1, 28, 28), activation=\"relu\", \\\n",
    "                name='conv1', data_format=\"channels_first\"))\n",
    "\n",
    "lenet.add(MaxPool2D(pool_size=2, strides=2, name='pool1', data_format='channels_first'))\n",
    "\n",
    "lenet.add(Conv2D(16, kernel_size=5, strides=1, padding='valid', activation=\"relu\", \\\n",
    "                 name='conv2', data_format=\"channels_first\"))\n",
    "\n",
    "lenet.add(MaxPool2D(pool_size=2, strides=2, name='pool2', data_format=\"channels_first\"))\n",
    "lenet.add(Flatten(name='flatten', data_format=\"channels_last\"))\n",
    "lenet.add(Dense(120, activation=\"relu\", name='fc1'))\n",
    "lenet.add(Dense(84, activation=\"relu\", name='fc2'))\n",
    "lenet.add(Dense(10, activation='softmax', name='softmax'))"
   ]
  },
  {
   "cell_type": "code",
   "execution_count": 61,
   "metadata": {},
   "outputs": [
    {
     "name": "stdout",
     "output_type": "stream",
     "text": [
      "Model: \"sequential_4\"\n",
      "_________________________________________________________________\n",
      "Layer (type)                 Output Shape              Param #   \n",
      "=================================================================\n",
      "conv1 (Conv2D)               (None, 6, 28, 28)         60        \n",
      "_________________________________________________________________\n",
      "pool1 (MaxPooling2D)         (None, 6, 14, 14)         0         \n",
      "_________________________________________________________________\n",
      "conv2 (Conv2D)               (None, 16, 10, 10)        2416      \n",
      "_________________________________________________________________\n",
      "pool2 (MaxPooling2D)         (None, 16, 5, 5)          0         \n",
      "_________________________________________________________________\n",
      "flatten (Flatten)            (None, 400)               0         \n",
      "_________________________________________________________________\n",
      "fc1 (Dense)                  (None, 120)               48120     \n",
      "_________________________________________________________________\n",
      "fc2 (Dense)                  (None, 84)                10164     \n",
      "_________________________________________________________________\n",
      "softmax (Dense)              (None, 10)                850       \n",
      "=================================================================\n",
      "Total params: 61,610\n",
      "Trainable params: 61,610\n",
      "Non-trainable params: 0\n",
      "_________________________________________________________________\n"
     ]
    }
   ],
   "source": [
    "lenet.summary()"
   ]
  },
  {
   "cell_type": "code",
   "execution_count": 62,
   "metadata": {},
   "outputs": [],
   "source": [
    "lenet.load_weights(\"LeNet_NCHW.h5\")"
   ]
  },
  {
   "cell_type": "code",
   "execution_count": 63,
   "metadata": {},
   "outputs": [
    {
     "data": {
      "text/plain": [
       "<matplotlib.image.AxesImage at 0x1ce94aa2550>"
      ]
     },
     "execution_count": 63,
     "metadata": {},
     "output_type": "execute_result"
    },
    {
     "data": {
      "image/png": "[encoded data removed]",
      "text/plain": [
       "<Figure size 432x288 with 1 Axes>"
      ]
     },
     "metadata": {
      "needs_background": "light"
     },
     "output_type": "display_data"
    }
   ],
   "source": [
    "plt.imshow(x_test[0][0])"
   ]
  },
  {
   "cell_type": "code",
   "execution_count": 64,
   "metadata": {},
   "outputs": [],
   "source": [
    "# with open(\"MNIST_in_7.dat\",\"w\") as f:\n",
    "#     for i in x_test[0]:\n",
    "#         for j in i:\n",
    "#             f.write(str(j[0])+\"\\n\")"
   ]
  },
  {
   "cell_type": "code",
   "execution_count": 65,
   "metadata": {},
   "outputs": [],
   "source": [
    "image_7 = np.expand_dims(x_test[0], axis=0)\n",
    "predictions = lenet.predict(image_7)"
   ]
  },
  {
   "cell_type": "code",
   "execution_count": 66,
   "metadata": {},
   "outputs": [
    {
     "data": {
      "text/plain": [
       "array([[6.7335994e-12, 5.8884730e-06, 8.9369498e-09, 2.5387008e-03,\n",
       "        1.0296408e-03, 2.3865884e-02, 1.4134841e-08, 1.9547938e-01,\n",
       "        5.8167940e-04, 7.7649879e-01]], dtype=float32)"
      ]
     },
     "execution_count": 66,
     "metadata": {},
     "output_type": "execute_result"
    }
   ],
   "source": [
    "predictions"
   ]
  },
  {
   "cell_type": "code",
   "execution_count": 67,
   "metadata": {},
   "outputs": [],
   "source": [
    "from keras.models import Model"
   ]
  },
  {
   "cell_type": "code",
   "execution_count": 68,
   "metadata": {},
   "outputs": [
    {
     "name": "stdout",
     "output_type": "stream",
     "text": [
      "(1, 16, 5, 5)\n"
     ]
    }
   ],
   "source": [
    "m_flatten_in = Model(inputs=lenet.input, outputs=lenet.get_layer('pool2').output)\n",
    "Y_flatten_in = m_flatten_in.predict(image_7)\n",
    "print(Y_flatten_in.shape)"
   ]
  },
  {
   "cell_type": "code",
   "execution_count": 69,
   "metadata": {},
   "outputs": [],
   "source": [
    "with open(\"flatten_in.dat\",\"w\") as f:\n",
    "    for i in Y_flatten_in[0]:\n",
    "        for j in i:\n",
    "            for k in j:\n",
    "                f.write(str(k)+\"\\n\")"
   ]
  },
  {
   "cell_type": "code",
   "execution_count": 70,
   "metadata": {},
   "outputs": [
    {
     "name": "stdout",
     "output_type": "stream",
     "text": [
      "(1, 400)\n"
     ]
    }
   ],
   "source": [
    "m_flatten_out = Model(inputs=lenet.input, outputs=lenet.get_layer('flatten').output)\n",
    "Y_flatten_out = m_flatten_out.predict(image_7)\n",
    "print(Y_flatten_out.shape)"
   ]
  },
  {
   "cell_type": "code",
   "execution_count": 71,
   "metadata": {},
   "outputs": [],
   "source": [
    "with open(\"flatten_out.dat\",\"w\") as f:\n",
    "    for i in Y_flatten_out[0]:\n",
    "        f.write(str(i)+\"\\n\")"
   ]
  },
  {
   "cell_type": "code",
   "execution_count": 72,
   "metadata": {},
   "outputs": [
    {
     "data": {
      "text/plain": [
       "array([[[[ 1.7865602 ,  2.5148878 ,  2.1796637 ,  1.8403363 ,\n",
       "           2.4672284 ],\n",
       "         [ 0.9985356 ,  4.4591503 ,  4.929274  ,  3.7278945 ,\n",
       "           5.3132663 ],\n",
       "         [ 0.        ,  0.        ,  0.        ,  0.2600601 ,\n",
       "           4.2207923 ],\n",
       "         [ 0.07208432,  0.04037521,  0.        ,  3.288526  ,\n",
       "           3.5304601 ],\n",
       "         [ 0.09727542,  0.        ,  0.9724573 ,  4.0071497 ,\n",
       "           1.7650177 ]],\n",
       "\n",
       "        [[ 2.2471187 ,  3.3369868 ,  0.        ,  0.72320473,\n",
       "           0.3509038 ],\n",
       "         [ 0.        ,  2.7098625 ,  0.9265256 ,  3.096881  ,\n",
       "           6.0835366 ],\n",
       "         [ 0.        ,  0.        ,  0.        ,  2.74444   ,\n",
       "           4.955316  ],\n",
       "         [ 0.        ,  0.        ,  0.        ,  2.60343   ,\n",
       "           0.2543174 ],\n",
       "         [ 0.        ,  0.        ,  2.6642344 ,  1.45313   ,\n",
       "           0.        ]],\n",
       "\n",
       "        [[ 0.        ,  0.        ,  0.        ,  0.        ,\n",
       "           0.        ],\n",
       "         [ 4.735078  ,  6.015937  ,  5.8737435 ,  0.        ,\n",
       "           0.        ],\n",
       "         [ 2.7108808 ,  5.0346847 ,  4.6382003 ,  0.8768898 ,\n",
       "           0.617156  ],\n",
       "         [ 0.72823894,  0.9417963 ,  0.        ,  0.        ,\n",
       "           0.62259483],\n",
       "         [ 0.66457486,  0.        ,  0.        ,  0.78132963,\n",
       "           0.6489451 ]],\n",
       "\n",
       "        [[ 1.3365103 ,  3.691165  ,  3.7352946 ,  3.167513  ,\n",
       "           2.787247  ],\n",
       "         [ 0.        ,  3.9317243 ,  3.6040688 ,  5.4902277 ,\n",
       "           5.759246  ],\n",
       "         [ 0.        ,  0.        ,  0.        ,  2.6799035 ,\n",
       "           3.9682047 ],\n",
       "         [ 0.        ,  0.        ,  2.204403  ,  2.9912527 ,\n",
       "           3.1089942 ],\n",
       "         [ 0.        ,  1.2373453 ,  3.7894225 ,  4.0305705 ,\n",
       "           1.2284036 ]],\n",
       "\n",
       "        [[ 5.471983  ,  6.8615084 ,  6.2401686 ,  7.4042144 ,\n",
       "           1.6144953 ],\n",
       "         [ 0.        ,  0.92941517,  2.9936    ,  4.0118175 ,\n",
       "           2.9930198 ],\n",
       "         [ 0.        ,  0.5706551 ,  0.08440936,  1.2946035 ,\n",
       "           1.6021743 ],\n",
       "         [ 0.7029804 ,  1.9540638 ,  0.41050756,  0.688034  ,\n",
       "           0.58503646],\n",
       "         [ 1.1717108 ,  2.4037054 ,  1.1116507 ,  0.74646246,\n",
       "           0.4068302 ]],\n",
       "\n",
       "        [[ 8.96119   ,  9.751216  ,  6.5116215 ,  2.977089  ,\n",
       "           0.        ],\n",
       "         [ 3.5412455 ,  8.667379  ,  8.912773  ,  7.565964  ,\n",
       "           3.659545  ],\n",
       "         [ 0.        ,  0.        ,  0.        ,  0.07064266,\n",
       "           0.        ],\n",
       "         [ 0.        ,  0.02295253,  0.32566434,  0.36700448,\n",
       "           0.        ],\n",
       "         [ 1.752639  ,  3.0901737 ,  2.4323134 ,  0.        ,\n",
       "           0.01832527]],\n",
       "\n",
       "        [[ 3.957116  ,  4.389403  ,  4.3980775 ,  4.2621284 ,\n",
       "           3.6608143 ],\n",
       "         [ 2.3328469 ,  0.        ,  0.        ,  1.474594  ,\n",
       "           0.03711931],\n",
       "         [ 0.        ,  0.        ,  3.5841637 ,  0.53135365,\n",
       "           0.        ],\n",
       "         [ 0.14693648,  4.8579407 ,  4.7334304 ,  0.        ,\n",
       "           0.23986238],\n",
       "         [ 1.9382086 ,  4.9079857 ,  0.48727405,  0.        ,\n",
       "           0.44131973]],\n",
       "\n",
       "        [[ 1.9614494 ,  1.2049316 ,  2.520122  ,  2.9635115 ,\n",
       "           1.9045136 ],\n",
       "         [ 5.3893557 ,  3.7268436 ,  2.7541552 ,  0.        ,\n",
       "           0.        ],\n",
       "         [ 4.785136  ,  6.7612433 ,  7.3898196 ,  3.2121434 ,\n",
       "           0.        ],\n",
       "         [ 0.13144447,  1.4971331 ,  1.6454188 ,  0.        ,\n",
       "           1.168124  ],\n",
       "         [ 0.429014  ,  1.1235808 ,  0.        ,  0.        ,\n",
       "           1.2035888 ]],\n",
       "\n",
       "        [[ 4.5103602 ,  4.3695292 ,  4.0401564 ,  4.111508  ,\n",
       "           2.4107337 ],\n",
       "         [ 3.2009702 ,  0.        ,  2.2016351 ,  3.6070259 ,\n",
       "           0.        ],\n",
       "         [ 0.13633132,  1.6950948 ,  8.597228  ,  5.42454   ,\n",
       "           0.        ],\n",
       "         [ 0.21051876,  7.6334662 ,  8.563222  ,  0.        ,\n",
       "           0.7702677 ],\n",
       "         [ 2.7952867 ,  9.081847  ,  3.4524655 ,  0.226877  ,\n",
       "           0.76433456]],\n",
       "\n",
       "        [[ 1.2519654 ,  2.2337441 ,  1.3835515 ,  1.8288182 ,\n",
       "           2.7479978 ],\n",
       "         [ 3.091666  ,  2.503381  ,  2.6437268 ,  3.8539972 ,\n",
       "           3.4413943 ],\n",
       "         [ 0.73474324,  1.1393466 ,  0.        ,  5.8108974 ,\n",
       "           1.6361976 ],\n",
       "         [ 0.02592342,  0.        ,  6.317361  ,  5.9761615 ,\n",
       "           0.        ],\n",
       "         [ 0.        ,  3.212047  ,  6.6832957 ,  1.0036852 ,\n",
       "           0.        ]],\n",
       "\n",
       "        [[ 2.418856  ,  0.9554795 ,  0.04459364,  0.06966562,\n",
       "           2.2762542 ],\n",
       "         [ 4.007423  ,  3.044528  ,  2.666797  ,  4.063458  ,\n",
       "           2.535104  ],\n",
       "         [ 0.        ,  0.        ,  0.41277668,  3.8640864 ,\n",
       "           0.04068358],\n",
       "         [ 0.24491507,  0.        ,  4.172957  ,  2.951868  ,\n",
       "           0.        ],\n",
       "         [ 0.14678328,  1.3434137 ,  3.2748418 ,  0.        ,\n",
       "           0.1355029 ]],\n",
       "\n",
       "        [[ 0.3718716 ,  0.        ,  0.        ,  0.        ,\n",
       "           0.        ],\n",
       "         [ 3.8069115 ,  7.5641155 ,  6.9331574 ,  6.800071  ,\n",
       "           4.6795373 ],\n",
       "         [ 0.        ,  0.        ,  0.        ,  1.1920354 ,\n",
       "           2.135447  ],\n",
       "         [ 0.04273295,  0.        ,  0.        ,  1.3065311 ,\n",
       "           1.9066985 ],\n",
       "         [ 0.        ,  0.50160956,  0.91138667,  2.3265285 ,\n",
       "           1.8232358 ]],\n",
       "\n",
       "        [[ 5.7502728 ,  6.973328  ,  6.4726453 ,  6.6196656 ,\n",
       "           4.510969  ],\n",
       "         [ 0.6685491 ,  0.        ,  1.9838479 ,  1.8189893 ,\n",
       "           1.831669  ],\n",
       "         [ 0.22272208,  1.7407076 ,  1.9982352 ,  0.73206335,\n",
       "           0.        ],\n",
       "         [ 0.78090286,  2.538014  ,  2.243947  ,  1.0668    ,\n",
       "           0.17273779],\n",
       "         [ 1.6054283 ,  2.0910978 ,  1.7586826 ,  0.07965063,\n",
       "           0.15608396]],\n",
       "\n",
       "        [[ 0.        ,  0.        ,  0.        ,  0.        ,\n",
       "           0.        ],\n",
       "         [ 5.162307  ,  7.2899227 ,  5.7146115 ,  2.2975507 ,\n",
       "           4.5000467 ],\n",
       "         [ 4.86678   ,  5.9818788 ,  4.7137723 ,  3.8798127 ,\n",
       "           6.8955154 ],\n",
       "         [ 0.01664824,  0.        ,  0.        ,  6.672121  ,\n",
       "           5.6616254 ],\n",
       "         [ 0.        ,  0.        ,  5.37433   ,  7.1513624 ,\n",
       "           1.516185  ]],\n",
       "\n",
       "        [[ 7.0042834 , 11.879762  , 11.201468  , 10.151379  ,\n",
       "           4.8630614 ],\n",
       "         [ 0.        ,  0.22244641,  5.2997284 ,  7.008869  ,\n",
       "           6.467747  ],\n",
       "         [ 1.0112736 ,  1.7882202 ,  0.32953852,  0.        ,\n",
       "           0.        ],\n",
       "         [ 0.61183363,  2.0131145 ,  1.7307429 ,  0.        ,\n",
       "           0.        ],\n",
       "         [ 1.7443522 ,  2.065965  ,  0.        ,  0.        ,\n",
       "           0.        ]],\n",
       "\n",
       "        [[ 0.69223964,  0.54714614,  0.74569887,  0.96487975,\n",
       "           2.9146702 ],\n",
       "         [ 0.        ,  1.9208517 ,  3.7524626 ,  1.9069461 ,\n",
       "           8.934313  ],\n",
       "         [ 0.09231555,  2.130113  ,  3.85318   ,  0.        ,\n",
       "           7.414493  ],\n",
       "         [ 0.35599226,  3.327422  ,  0.840588  ,  7.581311  ,\n",
       "           6.9171295 ],\n",
       "         [ 2.6432073 ,  4.205438  ,  1.6220055 ,  8.243299  ,\n",
       "           1.0555737 ]]]], dtype=float32)"
      ]
     },
     "execution_count": 72,
     "metadata": {},
     "output_type": "execute_result"
    }
   ],
   "source": [
    "Y_flatten_in"
   ]
  },
  {
   "cell_type": "code",
   "execution_count": 73,
   "metadata": {},
   "outputs": [
    {
     "data": {
      "text/plain": [
       "array([[ 1.7865602 ,  2.5148878 ,  2.1796637 ,  1.8403363 ,  2.4672284 ,\n",
       "         0.9985356 ,  4.4591503 ,  4.929274  ,  3.7278945 ,  5.3132663 ,\n",
       "         0.        ,  0.        ,  0.        ,  0.2600601 ,  4.2207923 ,\n",
       "         0.07208432,  0.04037521,  0.        ,  3.288526  ,  3.5304601 ,\n",
       "         0.09727542,  0.        ,  0.9724573 ,  4.0071497 ,  1.7650177 ,\n",
       "         2.2471187 ,  3.3369868 ,  0.        ,  0.72320473,  0.3509038 ,\n",
       "         0.        ,  2.7098625 ,  0.9265256 ,  3.096881  ,  6.0835366 ,\n",
       "         0.        ,  0.        ,  0.        ,  2.74444   ,  4.955316  ,\n",
       "         0.        ,  0.        ,  0.        ,  2.60343   ,  0.2543174 ,\n",
       "         0.        ,  0.        ,  2.6642344 ,  1.45313   ,  0.        ,\n",
       "         0.        ,  0.        ,  0.        ,  0.        ,  0.        ,\n",
       "         4.735078  ,  6.015937  ,  5.8737435 ,  0.        ,  0.        ,\n",
       "         2.7108808 ,  5.0346847 ,  4.6382003 ,  0.8768898 ,  0.617156  ,\n",
       "         0.72823894,  0.9417963 ,  0.        ,  0.        ,  0.62259483,\n",
       "         0.66457486,  0.        ,  0.        ,  0.78132963,  0.6489451 ,\n",
       "         1.3365103 ,  3.691165  ,  3.7352946 ,  3.167513  ,  2.787247  ,\n",
       "         0.        ,  3.9317243 ,  3.6040688 ,  5.4902277 ,  5.759246  ,\n",
       "         0.        ,  0.        ,  0.        ,  2.6799035 ,  3.9682047 ,\n",
       "         0.        ,  0.        ,  2.204403  ,  2.9912527 ,  3.1089942 ,\n",
       "         0.        ,  1.2373453 ,  3.7894225 ,  4.0305705 ,  1.2284036 ,\n",
       "         5.471983  ,  6.8615084 ,  6.2401686 ,  7.4042144 ,  1.6144953 ,\n",
       "         0.        ,  0.92941517,  2.9936    ,  4.0118175 ,  2.9930198 ,\n",
       "         0.        ,  0.5706551 ,  0.08440936,  1.2946035 ,  1.6021743 ,\n",
       "         0.7029804 ,  1.9540638 ,  0.41050756,  0.688034  ,  0.58503646,\n",
       "         1.1717108 ,  2.4037054 ,  1.1116507 ,  0.74646246,  0.4068302 ,\n",
       "         8.96119   ,  9.751216  ,  6.5116215 ,  2.977089  ,  0.        ,\n",
       "         3.5412455 ,  8.667379  ,  8.912773  ,  7.565964  ,  3.659545  ,\n",
       "         0.        ,  0.        ,  0.        ,  0.07064266,  0.        ,\n",
       "         0.        ,  0.02295253,  0.32566434,  0.36700448,  0.        ,\n",
       "         1.752639  ,  3.0901737 ,  2.4323134 ,  0.        ,  0.01832527,\n",
       "         3.957116  ,  4.389403  ,  4.3980775 ,  4.2621284 ,  3.6608143 ,\n",
       "         2.3328469 ,  0.        ,  0.        ,  1.474594  ,  0.03711931,\n",
       "         0.        ,  0.        ,  3.5841637 ,  0.53135365,  0.        ,\n",
       "         0.14693648,  4.8579407 ,  4.7334304 ,  0.        ,  0.23986238,\n",
       "         1.9382086 ,  4.9079857 ,  0.48727405,  0.        ,  0.44131973,\n",
       "         1.9614494 ,  1.2049316 ,  2.520122  ,  2.9635115 ,  1.9045136 ,\n",
       "         5.3893557 ,  3.7268436 ,  2.7541552 ,  0.        ,  0.        ,\n",
       "         4.785136  ,  6.7612433 ,  7.3898196 ,  3.2121434 ,  0.        ,\n",
       "         0.13144447,  1.4971331 ,  1.6454188 ,  0.        ,  1.168124  ,\n",
       "         0.429014  ,  1.1235808 ,  0.        ,  0.        ,  1.2035888 ,\n",
       "         4.5103602 ,  4.3695292 ,  4.0401564 ,  4.111508  ,  2.4107337 ,\n",
       "         3.2009702 ,  0.        ,  2.2016351 ,  3.6070259 ,  0.        ,\n",
       "         0.13633132,  1.6950948 ,  8.597228  ,  5.42454   ,  0.        ,\n",
       "         0.21051876,  7.6334662 ,  8.563222  ,  0.        ,  0.7702677 ,\n",
       "         2.7952867 ,  9.081847  ,  3.4524655 ,  0.226877  ,  0.76433456,\n",
       "         1.2519654 ,  2.2337441 ,  1.3835515 ,  1.8288182 ,  2.7479978 ,\n",
       "         3.091666  ,  2.503381  ,  2.6437268 ,  3.8539972 ,  3.4413943 ,\n",
       "         0.73474324,  1.1393466 ,  0.        ,  5.8108974 ,  1.6361976 ,\n",
       "         0.02592342,  0.        ,  6.317361  ,  5.9761615 ,  0.        ,\n",
       "         0.        ,  3.212047  ,  6.6832957 ,  1.0036852 ,  0.        ,\n",
       "         2.418856  ,  0.9554795 ,  0.04459364,  0.06966562,  2.2762542 ,\n",
       "         4.007423  ,  3.044528  ,  2.666797  ,  4.063458  ,  2.535104  ,\n",
       "         0.        ,  0.        ,  0.41277668,  3.8640864 ,  0.04068358,\n",
       "         0.24491507,  0.        ,  4.172957  ,  2.951868  ,  0.        ,\n",
       "         0.14678328,  1.3434137 ,  3.2748418 ,  0.        ,  0.1355029 ,\n",
       "         0.3718716 ,  0.        ,  0.        ,  0.        ,  0.        ,\n",
       "         3.8069115 ,  7.5641155 ,  6.9331574 ,  6.800071  ,  4.6795373 ,\n",
       "         0.        ,  0.        ,  0.        ,  1.1920354 ,  2.135447  ,\n",
       "         0.04273295,  0.        ,  0.        ,  1.3065311 ,  1.9066985 ,\n",
       "         0.        ,  0.50160956,  0.91138667,  2.3265285 ,  1.8232358 ,\n",
       "         5.7502728 ,  6.973328  ,  6.4726453 ,  6.6196656 ,  4.510969  ,\n",
       "         0.6685491 ,  0.        ,  1.9838479 ,  1.8189893 ,  1.831669  ,\n",
       "         0.22272208,  1.7407076 ,  1.9982352 ,  0.73206335,  0.        ,\n",
       "         0.78090286,  2.538014  ,  2.243947  ,  1.0668    ,  0.17273779,\n",
       "         1.6054283 ,  2.0910978 ,  1.7586826 ,  0.07965063,  0.15608396,\n",
       "         0.        ,  0.        ,  0.        ,  0.        ,  0.        ,\n",
       "         5.162307  ,  7.2899227 ,  5.7146115 ,  2.2975507 ,  4.5000467 ,\n",
       "         4.86678   ,  5.9818788 ,  4.7137723 ,  3.8798127 ,  6.8955154 ,\n",
       "         0.01664824,  0.        ,  0.        ,  6.672121  ,  5.6616254 ,\n",
       "         0.        ,  0.        ,  5.37433   ,  7.1513624 ,  1.516185  ,\n",
       "         7.0042834 , 11.879762  , 11.201468  , 10.151379  ,  4.8630614 ,\n",
       "         0.        ,  0.22244641,  5.2997284 ,  7.008869  ,  6.467747  ,\n",
       "         1.0112736 ,  1.7882202 ,  0.32953852,  0.        ,  0.        ,\n",
       "         0.61183363,  2.0131145 ,  1.7307429 ,  0.        ,  0.        ,\n",
       "         1.7443522 ,  2.065965  ,  0.        ,  0.        ,  0.        ,\n",
       "         0.69223964,  0.54714614,  0.74569887,  0.96487975,  2.9146702 ,\n",
       "         0.        ,  1.9208517 ,  3.7524626 ,  1.9069461 ,  8.934313  ,\n",
       "         0.09231555,  2.130113  ,  3.85318   ,  0.        ,  7.414493  ,\n",
       "         0.35599226,  3.327422  ,  0.840588  ,  7.581311  ,  6.9171295 ,\n",
       "         2.6432073 ,  4.205438  ,  1.6220055 ,  8.243299  ,  1.0555737 ]],\n",
       "      dtype=float32)"
      ]
     },
     "execution_count": 73,
     "metadata": {},
     "output_type": "execute_result"
    }
   ],
   "source": [
    "Y_flatten_out"
   ]
  },
  {
   "cell_type": "code",
   "execution_count": null,
   "metadata": {},
   "outputs": [],
   "source": []
  }
 ],
 "metadata": {
  "kernelspec": {
   "display_name": "Python 3",
   "language": "python",
   "name": "python3"
  },
  "language_info": {
   "codemirror_mode": {
    "name": "ipython",
    "version": 3
   },
   "file_extension": ".py",
   "mimetype": "text/x-python",
   "name": "python",
   "nbconvert_exporter": "python",
   "pygments_lexer": "ipython3",
   "version": "3.6.8"
  }
 },
 "nbformat": 4,
 "nbformat_minor": 2
}
