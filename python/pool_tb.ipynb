{
 "cells": [
  {
   "cell_type": "code",
   "execution_count": 6,
   "metadata": {},
   "outputs": [],
   "source": [
    "import keras\n",
    "from matplotlib import pyplot as plt\n",
    "import numpy as np\n",
    "import h5py\n",
    "import tensorflow as tf"
   ]
  },
  {
   "cell_type": "code",
   "execution_count": 7,
   "metadata": {},
   "outputs": [],
   "source": [
    "from keras.datasets import mnist\n",
    "(x_train, y_train), (x_test, y_test) = mnist.load_data()"
   ]
  },
  {
   "cell_type": "code",
   "execution_count": 8,
   "metadata": {},
   "outputs": [
    {
     "data": {
      "text/plain": [
       "'channels_first'"
      ]
     },
     "execution_count": 8,
     "metadata": {},
     "output_type": "execute_result"
    }
   ],
   "source": [
    "keras.backend.image_data_format()"
   ]
  },
  {
   "cell_type": "code",
   "execution_count": 9,
   "metadata": {},
   "outputs": [],
   "source": [
    "y_train = keras.utils.to_categorical(y_train, 10)\n",
    "y_test = keras.utils.to_categorical(y_test, 10)"
   ]
  },
  {
   "cell_type": "code",
   "execution_count": 10,
   "metadata": {},
   "outputs": [],
   "source": [
    "x_train = x_train / 255.\n",
    "x_test = x_test / 255."
   ]
  },
  {
   "cell_type": "code",
   "execution_count": 11,
   "metadata": {},
   "outputs": [
    {
     "data": {
      "text/plain": [
       "(60000, 28, 28)"
      ]
     },
     "execution_count": 11,
     "metadata": {},
     "output_type": "execute_result"
    }
   ],
   "source": [
    "x_train.shape"
   ]
  },
  {
   "cell_type": "code",
   "execution_count": 12,
   "metadata": {},
   "outputs": [],
   "source": [
    "x_train = x_train.reshape(-1, 1, 28, 28)\n",
    "x_test = x_test.reshape(-1, 1, 28, 28)"
   ]
  },
  {
   "cell_type": "code",
   "execution_count": 13,
   "metadata": {},
   "outputs": [],
   "source": [
    "from keras.layers import Conv2D, MaxPool2D, Dense, Flatten\n",
    "from keras.models import Sequential"
   ]
  },
  {
   "cell_type": "code",
   "execution_count": 14,
   "metadata": {},
   "outputs": [],
   "source": [
    "import keras.backend.tensorflow_backend as tfback"
   ]
  },
  {
   "cell_type": "code",
   "execution_count": 15,
   "metadata": {},
   "outputs": [],
   "source": [
    "def _get_available_gpus():  \n",
    "\n",
    "    if tfback._LOCAL_DEVICES is None:  \n",
    "        devices = tf.config.list_logical_devices()  \n",
    "        tfback._LOCAL_DEVICES = [x.name for x in devices]  \n",
    "    return [x for x in tfback._LOCAL_DEVICES if 'device:gpu' in x.lower()]\n",
    "\n",
    "\n",
    "tfback._get_available_gpus = _get_available_gpus"
   ]
  },
  {
   "cell_type": "code",
   "execution_count": 16,
   "metadata": {},
   "outputs": [],
   "source": [
    "lenet = Sequential()\n",
    "lenet.add(Conv2D(6, kernel_size=3, strides=1, padding='same', input_shape=(1, 28, 28), activation=\"relu\", \\\n",
    "                name='conv1', data_format=\"channels_first\"))\n",
    "\n",
    "lenet.add(MaxPool2D(pool_size=2, strides=2, name='pool1', data_format='channels_first'))\n",
    "\n",
    "lenet.add(Conv2D(16, kernel_size=5, strides=1, padding='valid', activation=\"relu\", \\\n",
    "                 name='conv2', data_format=\"channels_first\"))\n",
    "\n",
    "lenet.add(MaxPool2D(pool_size=2, strides=2, name='pool2', data_format=\"channels_first\"))\n",
    "lenet.add(Flatten(name='flatten', data_format=\"channels_last\"))\n",
    "lenet.add(Dense(120, activation=\"relu\", name='fc1'))\n",
    "lenet.add(Dense(84, activation=\"relu\", name='fc2'))\n",
    "lenet.add(Dense(10, activation='softmax', name='softmax'))"
   ]
  },
  {
   "cell_type": "code",
   "execution_count": 17,
   "metadata": {},
   "outputs": [
    {
     "name": "stdout",
     "output_type": "stream",
     "text": [
      "Model: \"sequential_1\"\n",
      "_________________________________________________________________\n",
      "Layer (type)                 Output Shape              Param #   \n",
      "=================================================================\n",
      "conv1 (Conv2D)               (None, 6, 28, 28)         60        \n",
      "_________________________________________________________________\n",
      "pool1 (MaxPooling2D)         (None, 6, 14, 14)         0         \n",
      "_________________________________________________________________\n",
      "conv2 (Conv2D)               (None, 16, 10, 10)        2416      \n",
      "_________________________________________________________________\n",
      "pool2 (MaxPooling2D)         (None, 16, 5, 5)          0         \n",
      "_________________________________________________________________\n",
      "flatten (Flatten)            (None, 400)               0         \n",
      "_________________________________________________________________\n",
      "fc1 (Dense)                  (None, 120)               48120     \n",
      "_________________________________________________________________\n",
      "fc2 (Dense)                  (None, 84)                10164     \n",
      "_________________________________________________________________\n",
      "softmax (Dense)              (None, 10)                850       \n",
      "=================================================================\n",
      "Total params: 61,610\n",
      "Trainable params: 61,610\n",
      "Non-trainable params: 0\n",
      "_________________________________________________________________\n"
     ]
    }
   ],
   "source": [
    "lenet.summary()"
   ]
  },
  {
   "cell_type": "code",
   "execution_count": 18,
   "metadata": {},
   "outputs": [],
   "source": [
    "# lenet.compile('sgd', loss='categorical_crossentropy', metrics=['accuracy'])"
   ]
  },
  {
   "cell_type": "code",
   "execution_count": 19,
   "metadata": {},
   "outputs": [],
   "source": [
    "# lenet.fit(x_train, y_train, batch_size=64, epochs=50, validation_data=[x_test, y_test])"
   ]
  },
  {
   "cell_type": "code",
   "execution_count": 20,
   "metadata": {},
   "outputs": [],
   "source": [
    "# lenet.save('LeNet_NCHW.h5')"
   ]
  },
  {
   "cell_type": "code",
   "execution_count": 21,
   "metadata": {},
   "outputs": [],
   "source": [
    "lenet.load_weights(\"LeNet_NCHW2.h5\")"
   ]
  },
  {
   "cell_type": "code",
   "execution_count": 22,
   "metadata": {},
   "outputs": [],
   "source": [
    "image_7 = np.expand_dims(x_test[0], axis=0)\n",
    "predictions = lenet.predict(image_7)"
   ]
  },
  {
   "cell_type": "code",
   "execution_count": 23,
   "metadata": {},
   "outputs": [
    {
     "data": {
      "text/plain": [
       "array([[4.1750793e-13, 1.0217871e-07, 4.7025295e-09, 7.9027460e-09,\n",
       "        4.6409793e-11, 4.0204432e-14, 3.6066829e-20, 9.9999988e-01,\n",
       "        5.8345616e-12, 4.1460571e-10]], dtype=float32)"
      ]
     },
     "execution_count": 23,
     "metadata": {},
     "output_type": "execute_result"
    }
   ],
   "source": [
    "predictions"
   ]
  },
  {
   "cell_type": "code",
   "execution_count": 25,
   "metadata": {},
   "outputs": [],
   "source": [
    "from keras.models import Model"
   ]
  },
  {
   "cell_type": "code",
   "execution_count": 26,
   "metadata": {},
   "outputs": [
    {
     "name": "stdout",
     "output_type": "stream",
     "text": [
      "(1, 6, 28, 28)\n"
     ]
    }
   ],
   "source": [
    "m_pool_in = Model(inputs=lenet.input, outputs=lenet.get_layer('conv1').output)\n",
    "Y_pool_in = m_pool_in.predict(image_7)\n",
    "print(Y_pool_in.shape)"
   ]
  },
  {
   "cell_type": "code",
   "execution_count": 27,
   "metadata": {},
   "outputs": [],
   "source": [
    "with open(\"pool_in.dat\",\"w\") as f:\n",
    "    for i in Y_pool_in[0]:\n",
    "        for j in i:\n",
    "            for k in j:\n",
    "                f.write(str(k)+\"\\n\")"
   ]
  },
  {
   "cell_type": "code",
   "execution_count": 28,
   "metadata": {},
   "outputs": [
    {
     "name": "stdout",
     "output_type": "stream",
     "text": [
      "(1, 6, 14, 14)\n"
     ]
    }
   ],
   "source": [
    "m_pool_out = Model(inputs=lenet.input, outputs=lenet.get_layer('pool1').output)\n",
    "Y_pool_out = m_pool_out.predict(image_7)\n",
    "print(Y_pool_out.shape)"
   ]
  },
  {
   "cell_type": "code",
   "execution_count": 29,
   "metadata": {},
   "outputs": [],
   "source": [
    "with open(\"pool_out.dat\",\"w\") as f:\n",
    "    for i in Y_pool_out[0]:\n",
    "        for j in i:\n",
    "            for k in j:\n",
    "                f.write(str(k)+\"\\n\")"
   ]
  }
 ],
 "metadata": {
  "kernelspec": {
   "display_name": "Python 3",
   "language": "python",
   "name": "python3"
  },
  "language_info": {
   "codemirror_mode": {
    "name": "ipython",
    "version": 3
   },
   "file_extension": ".py",
   "mimetype": "text/x-python",
   "name": "python",
   "nbconvert_exporter": "python",
   "pygments_lexer": "ipython3",
   "version": "3.6.8"
  }
 },
 "nbformat": 4,
 "nbformat_minor": 2
}
