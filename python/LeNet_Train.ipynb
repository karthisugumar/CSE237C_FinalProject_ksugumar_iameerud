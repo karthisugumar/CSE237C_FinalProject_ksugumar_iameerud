{
 "cells": [
  {
   "cell_type": "code",
   "execution_count": 8,
   "metadata": {},
   "outputs": [],
   "source": [
    "import keras\n",
    "from matplotlib import pyplot as plt\n",
    "import numpy as np\n",
    "import h5py\n",
    "import tensorflow as tf"
   ]
  },
  {
   "cell_type": "code",
   "execution_count": 9,
   "metadata": {},
   "outputs": [],
   "source": [
    "from keras.datasets import mnist\n",
    "(x_train, y_train), (x_test, y_test) = mnist.load_data()"
   ]
  },
  {
   "cell_type": "code",
   "execution_count": 10,
   "metadata": {},
   "outputs": [
    {
     "data": {
      "text/plain": [
       "'channels_first'"
      ]
     },
     "execution_count": 10,
     "metadata": {},
     "output_type": "execute_result"
    }
   ],
   "source": [
    "keras.backend.image_data_format()"
   ]
  },
  {
   "cell_type": "code",
   "execution_count": 11,
   "metadata": {},
   "outputs": [],
   "source": [
    "y_train = keras.utils.to_categorical(y_train, 10)\n",
    "y_test = keras.utils.to_categorical(y_test, 10)"
   ]
  },
  {
   "cell_type": "code",
   "execution_count": 12,
   "metadata": {},
   "outputs": [],
   "source": [
    "x_train = x_train / 255.\n",
    "x_test = x_test / 255."
   ]
  },
  {
   "cell_type": "code",
   "execution_count": 13,
   "metadata": {},
   "outputs": [
    {
     "data": {
      "text/plain": [
       "(60000, 28, 28)"
      ]
     },
     "execution_count": 13,
     "metadata": {},
     "output_type": "execute_result"
    }
   ],
   "source": [
    "x_train.shape"
   ]
  },
  {
   "cell_type": "code",
   "execution_count": 14,
   "metadata": {},
   "outputs": [],
   "source": [
    "x_train = x_train.reshape(-1, 1, 28, 28)\n",
    "x_test = x_test.reshape(-1, 1, 28, 28)"
   ]
  },
  {
   "cell_type": "code",
   "execution_count": 15,
   "metadata": {},
   "outputs": [],
   "source": [
    "from keras.layers import Conv2D, MaxPool2D, Dense, Flatten\n",
    "from keras.models import Sequential"
   ]
  },
  {
   "cell_type": "code",
   "execution_count": 16,
   "metadata": {},
   "outputs": [],
   "source": [
    "import keras.backend.tensorflow_backend as tfback"
   ]
  },
  {
   "cell_type": "code",
   "execution_count": 17,
   "metadata": {},
   "outputs": [],
   "source": [
    "def _get_available_gpus():  \n",
    "\n",
    "    if tfback._LOCAL_DEVICES is None:  \n",
    "        devices = tf.config.list_logical_devices()  \n",
    "        tfback._LOCAL_DEVICES = [x.name for x in devices]  \n",
    "    return [x for x in tfback._LOCAL_DEVICES if 'device:gpu' in x.lower()]\n",
    "\n",
    "\n",
    "tfback._get_available_gpus = _get_available_gpus"
   ]
  },
  {
   "cell_type": "code",
   "execution_count": 18,
   "metadata": {},
   "outputs": [],
   "source": [
    "lenet = Sequential()\n",
    "lenet.add(Conv2D(6, kernel_size=3, strides=1, padding='same', input_shape=(1, 28, 28), activation=\"relu\", \\\n",
    "                name='conv1', data_format=\"channels_first\"))\n",
    "\n",
    "lenet.add(MaxPool2D(pool_size=2, strides=2, name='pool1', data_format='channels_first'))\n",
    "\n",
    "lenet.add(Conv2D(16, kernel_size=5, strides=1, padding='valid', activation=\"relu\", \\\n",
    "                 name='conv2', data_format=\"channels_first\"))\n",
    "\n",
    "lenet.add(MaxPool2D(pool_size=2, strides=2, name='pool2', data_format=\"channels_first\"))\n",
    "lenet.add(Flatten(name='flatten', data_format=\"channels_last\"))\n",
    "lenet.add(Dense(120, activation=\"relu\", name='fc1'))\n",
    "lenet.add(Dense(84, activation=\"relu\", name='fc2'))\n",
    "lenet.add(Dense(10, activation='softmax', name='softmax'))"
   ]
  },
  {
   "cell_type": "code",
   "execution_count": 19,
   "metadata": {},
   "outputs": [
    {
     "name": "stdout",
     "output_type": "stream",
     "text": [
      "Model: \"sequential_1\"\n",
      "_________________________________________________________________\n",
      "Layer (type)                 Output Shape              Param #   \n",
      "=================================================================\n",
      "conv1 (Conv2D)               (None, 6, 28, 28)         60        \n",
      "_________________________________________________________________\n",
      "pool1 (MaxPooling2D)         (None, 6, 14, 14)         0         \n",
      "_________________________________________________________________\n",
      "conv2 (Conv2D)               (None, 16, 10, 10)        2416      \n",
      "_________________________________________________________________\n",
      "pool2 (MaxPooling2D)         (None, 16, 5, 5)          0         \n",
      "_________________________________________________________________\n",
      "flatten (Flatten)            (None, 400)               0         \n",
      "_________________________________________________________________\n",
      "fc1 (Dense)                  (None, 120)               48120     \n",
      "_________________________________________________________________\n",
      "fc2 (Dense)                  (None, 84)                10164     \n",
      "_________________________________________________________________\n",
      "softmax (Dense)              (None, 10)                850       \n",
      "=================================================================\n",
      "Total params: 61,610\n",
      "Trainable params: 61,610\n",
      "Non-trainable params: 0\n",
      "_________________________________________________________________\n"
     ]
    }
   ],
   "source": [
    "lenet.summary()"
   ]
  },
  {
   "cell_type": "code",
   "execution_count": 20,
   "metadata": {},
   "outputs": [],
   "source": [
    "lenet.compile('sgd', loss='categorical_crossentropy', metrics=['accuracy'])"
   ]
  },
  {
   "cell_type": "code",
   "execution_count": 21,
   "metadata": {},
   "outputs": [
    {
     "name": "stdout",
     "output_type": "stream",
     "text": [
      "Train on 60000 samples, validate on 10000 samples\n",
      "Epoch 1/50\n",
      "60000/60000 [==============================] - 10s 163us/step - loss: 0.8021 - accuracy: 0.7618 - val_loss: 0.2386 - val_accuracy: 0.9274\n",
      "Epoch 2/50\n",
      "60000/60000 [==============================] - 10s 162us/step - loss: 0.1934 - accuracy: 0.9412 - val_loss: 0.1370 - val_accuracy: 0.9589\n",
      "Epoch 3/50\n",
      "60000/60000 [==============================] - 12s 201us/step - loss: 0.1358 - accuracy: 0.9585 - val_loss: 0.1102 - val_accuracy: 0.9682\n",
      "Epoch 4/50\n",
      "60000/60000 [==============================] - 11s 182us/step - loss: 0.1090 - accuracy: 0.9664 - val_loss: 0.0927 - val_accuracy: 0.9711\n",
      "Epoch 5/50\n",
      "60000/60000 [==============================] - 10s 167us/step - loss: 0.0943 - accuracy: 0.9713 - val_loss: 0.0869 - val_accuracy: 0.9722\n",
      "Epoch 6/50\n",
      "60000/60000 [==============================] - 12s 192us/step - loss: 0.0840 - accuracy: 0.9736 - val_loss: 0.0739 - val_accuracy: 0.9760\n",
      "Epoch 7/50\n",
      "60000/60000 [==============================] - 11s 186us/step - loss: 0.0761 - accuracy: 0.9765 - val_loss: 0.0717 - val_accuracy: 0.9783\n",
      "Epoch 8/50\n",
      "60000/60000 [==============================] - 11s 177us/step - loss: 0.0697 - accuracy: 0.9786 - val_loss: 0.0776 - val_accuracy: 0.9749\n",
      "Epoch 9/50\n",
      "60000/60000 [==============================] - 13s 210us/step - loss: 0.0642 - accuracy: 0.9801 - val_loss: 0.0634 - val_accuracy: 0.9788\n",
      "Epoch 10/50\n",
      "60000/60000 [==============================] - 10s 169us/step - loss: 0.0605 - accuracy: 0.9810 - val_loss: 0.0986 - val_accuracy: 0.9680\n",
      "Epoch 11/50\n",
      "60000/60000 [==============================] - 11s 181us/step - loss: 0.0565 - accuracy: 0.9824 - val_loss: 0.0651 - val_accuracy: 0.9785\n",
      "Epoch 12/50\n",
      "60000/60000 [==============================] - 11s 181us/step - loss: 0.0533 - accuracy: 0.9830 - val_loss: 0.0598 - val_accuracy: 0.9798\n",
      "Epoch 13/50\n",
      "60000/60000 [==============================] - 11s 191us/step - loss: 0.0492 - accuracy: 0.9844 - val_loss: 0.0547 - val_accuracy: 0.9809\n",
      "Epoch 14/50\n",
      "60000/60000 [==============================] - 10s 167us/step - loss: 0.0473 - accuracy: 0.9853 - val_loss: 0.0737 - val_accuracy: 0.9772\n",
      "Epoch 15/50\n",
      "60000/60000 [==============================] - 10s 164us/step - loss: 0.0445 - accuracy: 0.9861 - val_loss: 0.0521 - val_accuracy: 0.9826\n",
      "Epoch 16/50\n",
      "60000/60000 [==============================] - 10s 163us/step - loss: 0.0424 - accuracy: 0.9868 - val_loss: 0.0542 - val_accuracy: 0.9829\n",
      "Epoch 17/50\n",
      "60000/60000 [==============================] - 10s 172us/step - loss: 0.0402 - accuracy: 0.9872 - val_loss: 0.0497 - val_accuracy: 0.9830\n",
      "Epoch 18/50\n",
      "60000/60000 [==============================] - 10s 170us/step - loss: 0.0381 - accuracy: 0.9875 - val_loss: 0.0551 - val_accuracy: 0.9819\n",
      "Epoch 19/50\n",
      "60000/60000 [==============================] - 10s 163us/step - loss: 0.0365 - accuracy: 0.9885 - val_loss: 0.0516 - val_accuracy: 0.9835.98\n",
      "Epoch 20/50\n",
      "60000/60000 [==============================] - 10s 163us/step - loss: 0.0353 - accuracy: 0.9885 - val_loss: 0.0480 - val_accuracy: 0.9842\n",
      "Epoch 21/50\n",
      "60000/60000 [==============================] - 10s 165us/step - loss: 0.0336 - accuracy: 0.9895 - val_loss: 0.0630 - val_accuracy: 0.9806\n",
      "Epoch 22/50\n",
      "60000/60000 [==============================] - 10s 166us/step - loss: 0.0324 - accuracy: 0.9895 - val_loss: 0.0520 - val_accuracy: 0.9841\n",
      "Epoch 23/50\n",
      "60000/60000 [==============================] - 13s 210us/step - loss: 0.0306 - accuracy: 0.9905 - val_loss: 0.0533 - val_accuracy: 0.9827\n",
      "Epoch 24/50\n",
      "60000/60000 [==============================] - 14s 227us/step - loss: 0.0295 - accuracy: 0.9908 - val_loss: 0.0569 - val_accuracy: 0.9825\n",
      "Epoch 25/50\n",
      "60000/60000 [==============================] - 13s 225us/step - loss: 0.0283 - accuracy: 0.9910 - val_loss: 0.0503 - val_accuracy: 0.9847\n",
      "Epoch 26/50\n",
      "60000/60000 [==============================] - 11s 178us/step - loss: 0.0273 - accuracy: 0.9912 - val_loss: 0.0693 - val_accuracy: 0.9784\n",
      "Epoch 27/50\n",
      "60000/60000 [==============================] - 10s 172us/step - loss: 0.0263 - accuracy: 0.9916 - val_loss: 0.0488 - val_accuracy: 0.9847\n",
      "Epoch 28/50\n",
      "60000/60000 [==============================] - 10s 171us/step - loss: 0.0242 - accuracy: 0.9925 - val_loss: 0.0452 - val_accuracy: 0.9858\n",
      "Epoch 29/50\n",
      "60000/60000 [==============================] - 14s 230us/step - loss: 0.0233 - accuracy: 0.9928 - val_loss: 0.0460 - val_accuracy: 0.9862\n",
      "Epoch 30/50\n",
      "60000/60000 [==============================] - 11s 188us/step - loss: 0.0228 - accuracy: 0.9926 - val_loss: 0.0513 - val_accuracy: 0.9846\n",
      "Epoch 31/50\n",
      "60000/60000 [==============================] - 10s 165us/step - loss: 0.0224 - accuracy: 0.9930 - val_loss: 0.0487 - val_accuracy: 0.9858\n",
      "Epoch 32/50\n",
      "60000/60000 [==============================] - 10s 167us/step - loss: 0.0210 - accuracy: 0.9938 - val_loss: 0.0510 - val_accuracy: 0.9846\n",
      "Epoch 33/50\n",
      "60000/60000 [==============================] - 11s 185us/step - loss: 0.0203 - accuracy: 0.9935 - val_loss: 0.0445 - val_accuracy: 0.9867\n",
      "Epoch 34/50\n",
      "60000/60000 [==============================] - 13s 221us/step - loss: 0.0194 - accuracy: 0.9940 - val_loss: 0.0435 - val_accuracy: 0.9867\n",
      "Epoch 35/50\n",
      "60000/60000 [==============================] - 11s 183us/step - loss: 0.0185 - accuracy: 0.9945 - val_loss: 0.0491 - val_accuracy: 0.9856\n",
      "Epoch 36/50\n",
      "60000/60000 [==============================] - 10s 168us/step - loss: 0.0176 - accuracy: 0.9945 - val_loss: 0.0486 - val_accuracy: 0.9860\n",
      "Epoch 37/50\n",
      "60000/60000 [==============================] - 10s 165us/step - loss: 0.0168 - accuracy: 0.9948 - val_loss: 0.0470 - val_accuracy: 0.9862\n",
      "Epoch 38/50\n",
      "60000/60000 [==============================] - 10s 166us/step - loss: 0.0166 - accuracy: 0.9947 - val_loss: 0.0532 - val_accuracy: 0.9849\n",
      "Epoch 39/50\n",
      "60000/60000 [==============================] - 10s 166us/step - loss: 0.0158 - accuracy: 0.9949 - val_loss: 0.0483 - val_accuracy: 0.9864\n",
      "Epoch 40/50\n",
      "60000/60000 [==============================] - 10s 173us/step - loss: 0.0148 - accuracy: 0.9956 - val_loss: 0.0485 - val_accuracy: 0.9866\n",
      "Epoch 41/50\n",
      "60000/60000 [==============================] - 11s 177us/step - loss: 0.0143 - accuracy: 0.9956 - val_loss: 0.0454 - val_accuracy: 0.9863\n",
      "Epoch 42/50\n",
      "60000/60000 [==============================] - 10s 167us/step - loss: 0.0143 - accuracy: 0.9959 - val_loss: 0.0453 - val_accuracy: 0.9870\n",
      "Epoch 43/50\n",
      "60000/60000 [==============================] - 10s 162us/step - loss: 0.0135 - accuracy: 0.9959 - val_loss: 0.0580 - val_accuracy: 0.9831\n",
      "Epoch 44/50\n",
      "60000/60000 [==============================] - 10s 162us/step - loss: 0.0128 - accuracy: 0.9962 - val_loss: 0.0521 - val_accuracy: 0.9854\n",
      "Epoch 45/50\n",
      "60000/60000 [==============================] - 10s 161us/step - loss: 0.0126 - accuracy: 0.9963 - val_loss: 0.0509 - val_accuracy: 0.9861\n",
      "Epoch 46/50\n",
      "60000/60000 [==============================] - 10s 164us/step - loss: 0.0118 - accuracy: 0.9965 - val_loss: 0.0490 - val_accuracy: 0.9861\n",
      "Epoch 47/50\n",
      "60000/60000 [==============================] - 10s 162us/step - loss: 0.0113 - accuracy: 0.9968 - val_loss: 0.0573 - val_accuracy: 0.9845\n",
      "Epoch 48/50\n",
      "60000/60000 [==============================] - 10s 162us/step - loss: 0.0110 - accuracy: 0.9968 - val_loss: 0.0694 - val_accuracy: 0.9820\n",
      "Epoch 49/50\n",
      "60000/60000 [==============================] - 10s 164us/step - loss: 0.0107 - accuracy: 0.9967 - val_loss: 0.0510 - val_accuracy: 0.9865\n",
      "Epoch 50/50\n",
      "60000/60000 [==============================] - 10s 162us/step - loss: 0.0102 - accuracy: 0.9971 - val_loss: 0.0524 - val_accuracy: 0.9857\n"
     ]
    },
    {
     "data": {
      "text/plain": [
       "<keras.callbacks.callbacks.History at 0x24d38983668>"
      ]
     },
     "execution_count": 21,
     "metadata": {},
     "output_type": "execute_result"
    }
   ],
   "source": [
    "lenet.fit(x_train, y_train, batch_size=64, epochs=50, validation_data=[x_test, y_test])"
   ]
  },
  {
   "cell_type": "code",
   "execution_count": 25,
   "metadata": {},
   "outputs": [],
   "source": [
    "lenet.save('LeNet_NCHW2.h5')"
   ]
  },
  {
   "cell_type": "code",
   "execution_count": 27,
   "metadata": {},
   "outputs": [
    {
     "data": {
      "text/plain": [
       "<matplotlib.image.AxesImage at 0x24d41e80710>"
      ]
     },
     "execution_count": 27,
     "metadata": {},
     "output_type": "execute_result"
    },
    {
     "data": {
      "image/png": "[encoded data removed]",
      "text/plain": [
       "<Figure size 432x288 with 1 Axes>"
      ]
     },
     "metadata": {
      "needs_background": "light"
     },
     "output_type": "display_data"
    }
   ],
   "source": [
    "plt.imshow(x_test[0][0])"
   ]
  },
  {
   "cell_type": "code",
   "execution_count": 28,
   "metadata": {},
   "outputs": [],
   "source": [
    "lenet.load_weights('LeNet_NCHW2.h5')"
   ]
  },
  {
   "cell_type": "code",
   "execution_count": 29,
   "metadata": {},
   "outputs": [],
   "source": [
    "image_7 = np.expand_dims(x_test[0], axis=0)\n",
    "pred = lenet.predict(image_7)"
   ]
  },
  {
   "cell_type": "code",
   "execution_count": 30,
   "metadata": {},
   "outputs": [
    {
     "data": {
      "text/plain": [
       "7"
      ]
     },
     "execution_count": 30,
     "metadata": {},
     "output_type": "execute_result"
    }
   ],
   "source": [
    "result = np.where(pred == np.amax(pred))[1][0]\n",
    "result"
   ]
  },
  {
   "cell_type": "code",
   "execution_count": 31,
   "metadata": {},
   "outputs": [
    {
     "name": "stdout",
     "output_type": "stream",
     "text": [
      "[INFO] evaluating...\n",
      "10000/10000 [==============================] - 1s 105us/step\n",
      "[INFO] accuracy: 98.57%\n"
     ]
    }
   ],
   "source": [
    "print(\"[INFO] evaluating...\")\n",
    "(loss, accuracy) = lenet.evaluate(x_test, y_test, verbose=1)\n",
    "print(\"[INFO] accuracy: {:.2f}%\".format(accuracy * 100))"
   ]
  }
 ],
 "metadata": {
  "kernelspec": {
   "display_name": "Python 3",
   "language": "python",
   "name": "python3"
  },
  "language_info": {
   "codemirror_mode": {
    "name": "ipython",
    "version": 3
   },
   "file_extension": ".py",
   "mimetype": "text/x-python",
   "name": "python",
   "nbconvert_exporter": "python",
   "pygments_lexer": "ipython3",
   "version": "3.6.8"
  }
 },
 "nbformat": 4,
 "nbformat_minor": 2
}
