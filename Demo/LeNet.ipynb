{
 "cells": [
  {
   "cell_type": "code",
   "execution_count": 90,
   "metadata": {},
   "outputs": [],
   "source": [
    "from pynq import Overlay\n",
    "from pynq import Xlnk\n",
    "import numpy as np\n",
    "from matplotlib import pyplot as plt"
   ]
  },
  {
   "cell_type": "code",
   "execution_count": 91,
   "metadata": {},
   "outputs": [],
   "source": [
    "ol=Overlay('design_1_wrapper.bit')\n",
    "LeNet_ip = ol.lenet_0"
   ]
  },
  {
   "cell_type": "code",
   "execution_count": 114,
   "metadata": {},
   "outputs": [],
   "source": [
    "length_in = 28\n",
    "length_out = 10\n",
    "\n",
    "inpt=Xlnk().cma_array(shape=(1,length_in,length_in),dtype=np.float32)\n",
    "outpt=Xlnk().cma_array(shape=(length_out,),dtype=np.float32)\n",
    "\n",
    "image_in = np.zeros(shape=(1,28,28))\n",
    "with open(\"image_0_in.dat\",\"r\") as f:\n",
    "    data = f.read().split()\n",
    "\n",
    "data = np.array(data)\n",
    "data = data.astype(float)\n",
    "\n",
    "idx=0\n",
    "for i in range(len(data)):\n",
    "    if(i%28 == 0):\n",
    "        idx+=1\n",
    "    image_in[0][idx-1][i%28] = data[i]"
   ]
  },
  {
   "cell_type": "code",
   "execution_count": 115,
   "metadata": {},
   "outputs": [
    {
     "data": {
      "text/plain": [
       "<matplotlib.image.AxesImage at 0xaf1f29d0>"
      ]
     },
     "execution_count": 115,
     "metadata": {},
     "output_type": "execute_result"
    },
    {
     "data": {
      "image/png": "[encoded data removed]",
      "text/plain": [
       "<matplotlib.figure.Figure at 0xaf21d370>"
      ]
     },
     "metadata": {},
     "output_type": "display_data"
    }
   ],
   "source": [
    "plt.imshow(image_in[0])"
   ]
  },
  {
   "cell_type": "code",
   "execution_count": 116,
   "metadata": {},
   "outputs": [],
   "source": [
    "np.copyto(inpt,image_in)"
   ]
  },
  {
   "cell_type": "code",
   "execution_count": 117,
   "metadata": {},
   "outputs": [],
   "source": [
    "LeNet_ip.write(0x10,inpt.physical_address)\n",
    "LeNet_ip.write(0x18,outpt.physical_address)\n",
    "LeNet_ip.write(0x00,1)"
   ]
  },
  {
   "cell_type": "code",
   "execution_count": 119,
   "metadata": {},
   "outputs": [
    {
     "name": "stdout",
     "output_type": "stream",
     "text": [
      "[  9.99981642e-01   5.66092800e-13   1.12533108e-07   5.64631328e-12\n",
      "   4.19371867e-13   1.86497484e-09   1.67013950e-05   2.81113376e-13\n",
      "   5.09580537e-11   1.51511631e-06]\n"
     ]
    }
   ],
   "source": [
    "print(outpt)"
   ]
  },
  {
   "cell_type": "code",
   "execution_count": 125,
   "metadata": {},
   "outputs": [
    {
     "name": "stdout",
     "output_type": "stream",
     "text": [
      "Prediction: 0\n"
     ]
    }
   ],
   "source": [
    "print(\"Prediction: \" + str(np.where(np.round(outpt) == 1)[0][0]))"
   ]
  },
  {
   "cell_type": "code",
   "execution_count": null,
   "metadata": {},
   "outputs": [],
   "source": []
  }
 ],
 "metadata": {
  "kernelspec": {
   "display_name": "Python 3",
   "language": "python",
   "name": "python3"
  },
  "language_info": {
   "codemirror_mode": {
    "name": "ipython",
    "version": 3
   },
   "file_extension": ".py",
   "mimetype": "text/x-python",
   "name": "python",
   "nbconvert_exporter": "python",
   "pygments_lexer": "ipython3",
   "version": "3.6.5"
  }
 },
 "nbformat": 4,
 "nbformat_minor": 2
}
