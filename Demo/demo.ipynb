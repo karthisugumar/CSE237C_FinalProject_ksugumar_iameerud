{
 "cells": [
  {
   "cell_type": "code",
   "execution_count": 1,
   "metadata": {},
   "outputs": [
    {
     "data": {
      "application/javascript": [
       "\n",
       "require(['notebook/js/codecell'], function(codecell) {\n",
       "  codecell.CodeCell.options_default.highlight_modes[\n",
       "      'magic_text/x-csrc'] = {'reg':[/^%%microblaze/]};\n",
       "  Jupyter.notebook.events.one('kernel_ready.Kernel', function(){\n",
       "      Jupyter.notebook.get_cells().map(function(cell){\n",
       "          if (cell.cell_type == 'code'){ cell.auto_highlight(); } }) ;\n",
       "  });\n",
       "});\n"
      ]
     },
     "metadata": {},
     "output_type": "display_data"
    }
   ],
   "source": [
    "from pynq import Overlay\n",
    "from pynq import Xlnk\n",
    "import numpy as np\n",
    "from matplotlib import pyplot as plt\n",
    "import time"
   ]
  },
  {
   "cell_type": "code",
   "execution_count": 2,
   "metadata": {},
   "outputs": [],
   "source": [
    "ol=Overlay('LeNet_wrapper.bit')\n",
    "LeNet_ip = ol.lenet_0"
   ]
  },
  {
   "cell_type": "code",
   "execution_count": 3,
   "metadata": {},
   "outputs": [],
   "source": [
    "#################\n",
    "###Sample Test###\n",
    "#################\n",
    "\n",
    "\n",
    "\n",
    "length_in = 28\n",
    "length_out = 10\n",
    "\n",
    "inpt=Xlnk().cma_array(shape=(1,length_in,length_in),dtype=np.float32)\n",
    "outpt=Xlnk().cma_array(shape=(length_out,),dtype=np.float32)\n",
    "\n",
    "image_in = np.zeros(shape=(1,28,28))\n",
    "with open(\"image_7_in.dat\",\"r\") as f:\n",
    "    data = f.read().split()\n",
    "\n",
    "data = np.array(data)\n",
    "data = data.astype(float)\n",
    "\n",
    "idx=0\n",
    "for i in range(len(data)):\n",
    "    if(i%28 == 0):\n",
    "        idx+=1\n",
    "    image_in[0][idx-1][i%28] = data[i]"
   ]
  },
  {
   "cell_type": "code",
   "execution_count": 4,
   "metadata": {},
   "outputs": [
    {
     "data": {
      "text/plain": [
       "<matplotlib.image.AxesImage at 0xaf208c70>"
      ]
     },
     "execution_count": 4,
     "metadata": {},
     "output_type": "execute_result"
    },
    {
     "data": {
      "image/png": "[encoded data removed]",
      "text/plain": [
       "<matplotlib.figure.Figure at 0xb00515b0>"
      ]
     },
     "metadata": {},
     "output_type": "display_data"
    }
   ],
   "source": [
    "plt.imshow(image_in[0])"
   ]
  },
  {
   "cell_type": "code",
   "execution_count": 5,
   "metadata": {},
   "outputs": [],
   "source": [
    "np.copyto(inpt,image_in)"
   ]
  },
  {
   "cell_type": "code",
   "execution_count": 6,
   "metadata": {},
   "outputs": [],
   "source": [
    "LeNet_ip.write(0x10,inpt.physical_address)\n",
    "LeNet_ip.write(0x18,outpt.physical_address)\n",
    "LeNet_ip.write(0x00,1)"
   ]
  },
  {
   "cell_type": "code",
   "execution_count": 7,
   "metadata": {},
   "outputs": [
    {
     "name": "stdout",
     "output_type": "stream",
     "text": [
      "[  4.63486020e-13   1.01826032e-07   4.58718130e-09   8.35838954e-09\n",
      "   4.61095953e-11   4.64685765e-14   4.27037549e-20   9.99999881e-01\n",
      "   6.89654844e-12   4.16139706e-10]\n"
     ]
    }
   ],
   "source": [
    "print(outpt)"
   ]
  },
  {
   "cell_type": "code",
   "execution_count": 8,
   "metadata": {},
   "outputs": [
    {
     "name": "stdout",
     "output_type": "stream",
     "text": [
      "Prediction: 7\n"
     ]
    }
   ],
   "source": [
    "print(\"Prediction: \" + str(np.where(np.round(outpt) == 1)[0][0]))"
   ]
  },
  {
   "cell_type": "code",
   "execution_count": 10,
   "metadata": {},
   "outputs": [
    {
     "name": "stdout",
     "output_type": "stream",
     "text": [
      "Testset input size: (10000, 1, 28, 28)\n",
      "Testset label size: (10000, 10)\n"
     ]
    }
   ],
   "source": [
    "##############\n",
    "###Test Set###\n",
    "##############\n",
    "\n",
    "x_test = np.load(\"testset_x.dat.npy\")\n",
    "y_test = np.load(\"testset_y.dat.npy\")\n",
    "print(\"Testset input size: \" + str(x_test.shape))\n",
    "print(\"Testset label size: \" + str(y_test.shape))"
   ]
  },
  {
   "cell_type": "code",
   "execution_count": 72,
   "metadata": {},
   "outputs": [
    {
     "data": {
      "text/plain": [
       "<matplotlib.image.AxesImage at 0xaf080570>"
      ]
     },
     "execution_count": 72,
     "metadata": {},
     "output_type": "execute_result"
    },
    {
     "data": {
      "image/png": "[encoded data removed]",
      "text/plain": [
       "<matplotlib.figure.Figure at 0xaf1d58b0>"
      ]
     },
     "metadata": {},
     "output_type": "display_data"
    }
   ],
   "source": [
    "test_id=10\n",
    "image_in = np.zeros(shape=(1,28,28))\n",
    "image_in = x_test[test_id]\n",
    "\n",
    "np.copyto(inpt,image_in)\n",
    "LeNet_ip.write(0x10,inpt.physical_address)\n",
    "LeNet_ip.write(0x18,outpt.physical_address)\n",
    "LeNet_ip.write(0x00,1)\n",
    "\n",
    "plt.imshow(image_in[0])"
   ]
  },
  {
   "cell_type": "code",
   "execution_count": 73,
   "metadata": {},
   "outputs": [
    {
     "name": "stdout",
     "output_type": "stream",
     "text": [
      "Prediction: 0\n",
      "Golden: 0\n"
     ]
    }
   ],
   "source": [
    "print(\"Prediction: \" + str(np.argmax(outpt)))\n",
    "print(\"Golden: \" + str(np.argmax(y_test[test_id])))"
   ]
  },
  {
   "cell_type": "code",
   "execution_count": 74,
   "metadata": {},
   "outputs": [
    {
     "data": {
      "text/plain": [
       "<matplotlib.image.AxesImage at 0xaf03d6d0>"
      ]
     },
     "execution_count": 74,
     "metadata": {},
     "output_type": "execute_result"
    },
    {
     "data": {
      "image/png": "[encoded data removed]",
      "text/plain": [
       "<matplotlib.figure.Figure at 0xaf1d5670>"
      ]
     },
     "metadata": {},
     "output_type": "display_data"
    }
   ],
   "source": [
    "test_id=100\n",
    "image_in = np.zeros(shape=(1,28,28))\n",
    "image_in = x_test[test_id]\n",
    "\n",
    "np.copyto(inpt,image_in)\n",
    "LeNet_ip.write(0x10,inpt.physical_address)\n",
    "LeNet_ip.write(0x18,outpt.physical_address)\n",
    "LeNet_ip.write(0x00,1)\n",
    "\n",
    "plt.imshow(image_in[0])"
   ]
  },
  {
   "cell_type": "code",
   "execution_count": 75,
   "metadata": {},
   "outputs": [
    {
     "name": "stdout",
     "output_type": "stream",
     "text": [
      "Prediction: 6\n",
      "Golden: 6\n"
     ]
    }
   ],
   "source": [
    "print(\"Prediction: \" + str(np.argmax(outpt)))\n",
    "print(\"Golden: \" + str(np.argmax(y_test[test_id])))"
   ]
  },
  {
   "cell_type": "code",
   "execution_count": 83,
   "metadata": {},
   "outputs": [
    {
     "data": {
      "text/plain": [
       "<matplotlib.image.AxesImage at 0xaf035b30>"
      ]
     },
     "execution_count": 83,
     "metadata": {},
     "output_type": "execute_result"
    },
    {
     "data": {
      "image/png": "[encoded data removed]",
      "text/plain": [
       "<matplotlib.figure.Figure at 0xaf056ed0>"
      ]
     },
     "metadata": {},
     "output_type": "display_data"
    }
   ],
   "source": [
    "test_id=1000\n",
    "image_in = np.zeros(shape=(1,28,28))\n",
    "image_in = x_test[test_id]\n",
    "\n",
    "np.copyto(inpt,image_in)\n",
    "LeNet_ip.write(0x10,inpt.physical_address)\n",
    "LeNet_ip.write(0x18,outpt.physical_address)\n",
    "LeNet_ip.write(0x00,1)\n",
    "\n",
    "plt.imshow(image_in[0])"
   ]
  },
  {
   "cell_type": "code",
   "execution_count": 84,
   "metadata": {},
   "outputs": [
    {
     "name": "stdout",
     "output_type": "stream",
     "text": [
      "Prediction: 9\n",
      "Golden: 9\n"
     ]
    }
   ],
   "source": [
    "print(\"Prediction: \" + str(np.argmax(outpt)))\n",
    "print(\"Golden: \" + str(np.argmax(y_test[test_id])))"
   ]
  },
  {
   "cell_type": "code",
   "execution_count": 87,
   "metadata": {},
   "outputs": [
    {
     "data": {
      "text/plain": [
       "<matplotlib.image.AxesImage at 0xaefacdb0>"
      ]
     },
     "execution_count": 87,
     "metadata": {},
     "output_type": "execute_result"
    },
    {
     "data": {
      "image/png": "[encoded data removed]",
      "text/plain": [
       "<matplotlib.figure.Figure at 0xaf056ab0>"
      ]
     },
     "metadata": {},
     "output_type": "display_data"
    }
   ],
   "source": [
    "test_id=1234\n",
    "image_in = np.zeros(shape=(1,28,28))\n",
    "image_in = x_test[test_id]\n",
    "np.copyto(inpt,image_in)\n",
    "LeNet_ip.write(0x10,inpt.physical_address)\n",
    "LeNet_ip.write(0x18,outpt.physical_address)\n",
    "LeNet_ip.write(0x00,1)\n",
    "\n",
    "plt.imshow(image_in[0])"
   ]
  },
  {
   "cell_type": "code",
   "execution_count": 88,
   "metadata": {},
   "outputs": [
    {
     "name": "stdout",
     "output_type": "stream",
     "text": [
      "Prediction: 8\n",
      "Golden: 8\n"
     ]
    }
   ],
   "source": [
    "print(\"Prediction: \" + str(np.argmax(outpt)))\n",
    "print(\"Golden: \" + str(np.argmax(y_test[test_id])))"
   ]
  },
  {
   "cell_type": "code",
   "execution_count": 79,
   "metadata": {},
   "outputs": [
    {
     "name": "stdout",
     "output_type": "stream",
     "text": [
      "Total Time taken for 10000 test images: 0.39685750007629395\n"
     ]
    }
   ],
   "source": [
    "###########################\n",
    "### Runtime Measurement ###\n",
    "###########################\n",
    "\n",
    "image_in = np.zeros(shape=(1,28,28))\n",
    "\n",
    "test_size=10000\n",
    "tot_time=0\n",
    "\n",
    "preds=np.zeros(test_size)\n",
    "for x in range(test_size):\n",
    "    image_in = x_test[x]\n",
    "    \n",
    "    np.copyto(inpt,image_in)\n",
    "    LeNet_ip.write(0x10,inpt.physical_address)\n",
    "    LeNet_ip.write(0x18,outpt.physical_address)\n",
    "\n",
    "    v=time.time()\n",
    "    LeNet_ip.write(0x00,1)\n",
    "    tot_time += time.time()-v\n",
    "\n",
    "print(\"Total Time taken for {} test images: \".format(test_size) + str(tot_time))"
   ]
  },
  {
   "cell_type": "code",
   "execution_count": null,
   "metadata": {},
   "outputs": [],
   "source": []
  }
 ],
 "metadata": {
  "kernelspec": {
   "display_name": "Python 3",
   "language": "python",
   "name": "python3"
  },
  "language_info": {
   "codemirror_mode": {
    "name": "ipython",
    "version": 3
   },
   "file_extension": ".py",
   "mimetype": "text/x-python",
   "name": "python",
   "nbconvert_exporter": "python",
   "pygments_lexer": "ipython3",
   "version": "3.6.5"
  }
 },
 "nbformat": 4,
 "nbformat_minor": 2
}
